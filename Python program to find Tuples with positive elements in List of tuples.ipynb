{
 "cells": [
  {
   "cell_type": "code",
   "execution_count": 9,
   "id": "bf670f11",
   "metadata": {},
   "outputs": [
    {
     "name": "stdout",
     "output_type": "stream",
     "text": [
      "The original list is : [(4, 5, 9), (-3, 2, 3), (-3, 5, 6), (4, 6)]\n",
      "Positive elements Tuples : [(4, 5, 9), (4, 6)]\n"
     ]
    }
   ],
   "source": [
    "# initializing list\n",
    "test_list = [(4, 5, 9), (-3, 2, 3), (-3, 5, 6), (4, 6)]\n",
    " \n",
    "# printing original list\n",
    "print(\"The original list is : \" + str(test_list))\n",
    " \n",
    "# all() to check each element\n",
    "res = [sub for sub in test_list if all(ele >= 0 for ele in sub)]\n",
    " \n",
    "# printing result\n",
    "print(\"Positive elements Tuples : \" + str(res))"
   ]
  },
  {
   "cell_type": "code",
   "execution_count": 10,
   "id": "7aba3641",
   "metadata": {},
   "outputs": [
    {
     "name": "stdout",
     "output_type": "stream",
     "text": [
      "The original list is : [(4, 5, 9), (-3, 2, 3), (-3, 5, 6), (4, 6)]\n",
      "Positive elements Tuples : [(4, 5, 9), (4, 6)]\n"
     ]
    }
   ],
   "source": [
    "# initializing list\n",
    "test_list = [(4, 5, 9), (-3, 2, 3), (-3, 5, 6), (4, 6)]\n",
    " \n",
    "# printing original list\n",
    "print(\"The original list is : \" + str(test_list))\n",
    " \n",
    "# all() to check each element\n",
    "res = list(filter(lambda sub: all(ele >= 0 for ele in sub), test_list))\n",
    " \n",
    "# printing result\n",
    "print(\"Positive elements Tuples : \" + str(res))"
   ]
  },
  {
   "cell_type": "code",
   "execution_count": 11,
   "id": "84089740",
   "metadata": {},
   "outputs": [
    {
     "name": "stdout",
     "output_type": "stream",
     "text": [
      "The original list is : [(4, 5, 9), (-3, 2, 3), (-3, 5, 6), (4, 6)]\n",
      "Positive elements Tuples : [(4, 5, 9), (4, 6)]\n"
     ]
    }
   ],
   "source": [
    "# initializing list\n",
    "test_list = [(4, 5, 9), (-3, 2, 3), (-3, 5, 6), (4, 6)]\n",
    " \n",
    "# printing original list\n",
    "print(\"The original list is : \" + str(test_list))\n",
    " \n",
    "res = []\n",
    "for i in test_list:\n",
    "    x = list(map(str, i))\n",
    "    a = \" \".join(x)\n",
    "    if(a.find(\"-\") == -1):\n",
    "        res.append(i)\n",
    " # printing result\n",
    "print(\"Positive elements Tuples : \" + str(res))\n"
   ]
  },
  {
   "cell_type": "code",
   "execution_count": 12,
   "id": "30a7485f",
   "metadata": {},
   "outputs": [
    {
     "name": "stdout",
     "output_type": "stream",
     "text": [
      "The original list is : [(4, 5, 9), (-3, 2, 3), (-3, 5, 6), (4, 6)]\n",
      "Positive elements Tuples : [(4, 5, 9), (4, 6)]\n"
     ]
    }
   ],
   "source": [
    "# initializing list\n",
    "test_list = [(4, 5, 9), (-3, 2, 3), (-3, 5, 6), (4, 6)]\n",
    " \n",
    "# printing original list\n",
    "print(\"The original list is : \" + str(test_list))\n",
    " \n",
    "res = []\n",
    "for i in test_list:\n",
    "    x = sorted(i)\n",
    "    x = list(map(str, x))\n",
    "    b = \"\".join(x)\n",
    "    if(not b.startswith(\"-\")):\n",
    "        res.append(i)\n",
    " # printing result\n",
    "print(\"Positive elements Tuples : \" + str(res))"
   ]
  },
  {
   "cell_type": "code",
   "execution_count": 13,
   "id": "98bb6ead",
   "metadata": {},
   "outputs": [
    {
     "name": "stdout",
     "output_type": "stream",
     "text": [
      "The original list is : [(4, 5, 9), (-3, 2, 3), (-3, 5, 6), (4, 6)]\n",
      "Positive elements Tuples : [(4, 5, 9), (4, 6)]\n"
     ]
    }
   ],
   "source": [
    "# initializing list\n",
    "test_list = [(4, 5, 9), (-3, 2, 3), (-3, 5, 6), (4, 6)]\n",
    " \n",
    "# printing original list\n",
    "print(\"The original list is : \" + str(test_list))\n",
    "res = []\n",
    " \n",
    " \n",
    "def fun(x):\n",
    "    c = 0\n",
    "    for i in x:\n",
    "        if(i > 0):\n",
    "            c += 1\n",
    "    if(c == len(x)):\n",
    "        return True\n",
    "    return False\n",
    " \n",
    " \n",
    "for i in test_list:\n",
    "    if(fun(i)):\n",
    "        res.append(i)\n",
    " # printing result\n",
    "print(\"Positive elements Tuples : \" + str(res))\n"
   ]
  },
  {
   "cell_type": "code",
   "execution_count": 14,
   "id": "bb5a69c6",
   "metadata": {},
   "outputs": [
    {
     "name": "stdout",
     "output_type": "stream",
     "text": [
      "The original list is : [(4, 5, 9), (-3, 2, 3), (-3, 5, 6), (4, 6)]\n",
      "Positive elements Tuples : [(4, 5, 9), (4, 6)]\n"
     ]
    }
   ],
   "source": [
    "# initializing list\n",
    "test_list = [(4, 5, 9), (-3, 2, 3), (-3, 5, 6), (4, 6)]\n",
    " \n",
    "# printing original list\n",
    "print(\"The original list is : \" + str(test_list))\n",
    " \n",
    "# not any() to check each element\n",
    "res = [sub for sub in test_list if not any (ele < 0 for ele in sub)]\n",
    " \n",
    "# printing result\n",
    "print(\"Positive elements Tuples : \" + str(res))"
   ]
  },
  {
   "cell_type": "code",
   "execution_count": 15,
   "id": "a38b083d",
   "metadata": {},
   "outputs": [
    {
     "name": "stdout",
     "output_type": "stream",
     "text": [
      "The original list is : [(4, 5, 9), (-3, 2, 3), (-3, 5, 6), (4, 6)]\n",
      "Positive elements Tuples : [(4, 5, 9), (4, 6)]\n"
     ]
    }
   ],
   "source": [
    "test_list = [(4, 5, 9), (-3, 2, 3), (-3, 5, 6), (4, 6)]\n",
    "result = []\n",
    "# printing original list\n",
    "print(\"The original list is : \" + str(test_list))\n",
    "for tup in test_list:\n",
    "    positive = True\n",
    "    for ele in tup:\n",
    "        if ele < 0:\n",
    "            positive = False\n",
    "            break\n",
    "    if positive:\n",
    "        result.append(tup)\n",
    "# printing result\n",
    "print(\"Positive elements Tuples : \" + str(result))"
   ]
  },
  {
   "cell_type": "code",
   "execution_count": 16,
   "id": "31fa6381",
   "metadata": {},
   "outputs": [
    {
     "name": "stdout",
     "output_type": "stream",
     "text": [
      "Positive elements Tuples : [(4, 5, 9), (4, 6)]\n"
     ]
    }
   ],
   "source": [
    "# initializing list\n",
    "test_list = [(4, 5, 9), (-3, 2, 3), (-3, 5, 6), (4, 6)]\n",
    " \n",
    "# Create an empty list to hold the tuples with positive elements\n",
    "res = []\n",
    " \n",
    "# Loop through each tuple in the original list\n",
    "for tup in test_list:\n",
    "    # Check if all elements in the tuple are positive\n",
    "    if all(ele >= 0 for ele in tup):\n",
    "        # If so, add the tuple to the result list\n",
    "        res.append(tup)\n",
    " # Print the result\n",
    "print(\"Positive elements Tuples : \" + str(res))"
   ]
  },
  {
   "cell_type": "code",
   "execution_count": null,
   "id": "16a06476",
   "metadata": {},
   "outputs": [],
   "source": []
  }
 ],
 "metadata": {
  "kernelspec": {
   "display_name": "Python 3 (ipykernel)",
   "language": "python",
   "name": "python3"
  },
  "language_info": {
   "codemirror_mode": {
    "name": "ipython",
    "version": 3
   },
   "file_extension": ".py",
   "mimetype": "text/x-python",
   "name": "python",
   "nbconvert_exporter": "python",
   "pygments_lexer": "ipython3",
   "version": "3.9.13"
  }
 },
 "nbformat": 4,
 "nbformat_minor": 5
}
